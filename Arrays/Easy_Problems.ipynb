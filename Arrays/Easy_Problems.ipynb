{
 "cells": [
  {
   "cell_type": "markdown",
   "id": "07f46495",
   "metadata": {},
   "source": [
    "## Q1) Arrange Numbers In Array"
   ]
  },
  {
   "cell_type": "code",
   "execution_count": null,
   "id": "17e5d1f0",
   "metadata": {},
   "outputs": [],
   "source": [
    "You have been given an empty array(ARR) and its size N. The only input taken from the user will be N\n",
    "and you need not worry about the array.\n",
    "Your task is to populate the array using the integer values in the range 1 to N(both inclusive) in the order -\n",
    "1,3,5,.......,6,4,2.\n",
    "Note:\n",
    "You need not print the array. You only need to populate it.\n",
    "Input Format :\n",
    "The first line contains an Integer 't' which denotes the number of test cases or queries to be run. Then the\n",
    "test cases follow.\n",
    "The first and only line of each test case or query contains an integer 'N'.\n",
    "Output Format :\n",
    "Print the elements of the array/list separated by a single space for each test case.\n",
    "Output for every test case will be printed in a separate line.\n",
    "Constraints :\n",
    "1 <= t <= 10^2\n",
    "0 <= N <= 10^4\n",
    "Time Limit: 1sec\n",
    "Sample Input 1 :\n",
    "1\n",
    "6\n",
    "Sample Output 1 :\n",
    "1 3 5 6 4 2"
   ]
  },
  {
   "cell_type": "markdown",
   "id": "6964a76c",
   "metadata": {},
   "source": [
    "## Solution 1"
   ]
  },
  {
   "cell_type": "code",
   "execution_count": 4,
   "id": "27f7fb8b",
   "metadata": {},
   "outputs": [
    {
     "name": "stdout",
     "output_type": "stream",
     "text": [
      "2\n",
      "9\n",
      "1 3 5 7 9 8 6 4 2 \n",
      "3\n",
      "1 3 2 \n"
     ]
    }
   ],
   "source": [
    "def populateArray(n):\n",
    "    arr = []\n",
    "    \n",
    "    # Handling odd and even length of array\n",
    "    max = n if n % 2 == 0 else n+1\n",
    "    min = n if n % 2 == 0 else n-1\n",
    "    \n",
    "    for i in range(1, max, 2): # Populating array with odd elements first\n",
    "        arr.append(i)\n",
    "        \n",
    "    for i in range(min, 0, -2): # Populating array with even elements\n",
    "        arr.append(i)\n",
    "        \n",
    "    for i in arr:\n",
    "        print(i, end=\" \")\n",
    "    print()\n",
    "        \n",
    "\n",
    "t = int(input())\n",
    "\n",
    "while t:\n",
    "    n = int(input())\n",
    "    populateArray(n)\n",
    "    t -= 1"
   ]
  },
  {
   "cell_type": "markdown",
   "id": "a6657780",
   "metadata": {},
   "source": [
    "## Solution 2"
   ]
  },
  {
   "cell_type": "code",
   "execution_count": 5,
   "id": "fbb3187f",
   "metadata": {},
   "outputs": [
    {
     "name": "stdout",
     "output_type": "stream",
     "text": [
      "2\n",
      "9\n",
      "1 3 5 7 9 8 6 4 2 \n",
      "3\n",
      "1 3 2 \n"
     ]
    }
   ],
   "source": [
    "import array as arr # Link to array module:- https://www.freecodecamp.org/news/python-array-tutorial-define-index-methods/\n",
    "def populateArray2(n):\n",
    "    \n",
    "    numbers = arr.array('i',[])\n",
    "    start = 0 # initializing the start index\n",
    "    end = n-1 # initializing the end index\n",
    "    val = 1 # initializing value for populating array\n",
    "    \n",
    "    while val <= n:\n",
    "        numbers.insert(start, val) # inserting value at first index\n",
    "        val += 1\n",
    "        start += 1 # incrementing index value\n",
    "        \n",
    "        numbers.insert(end, val) # inserting value at last index\n",
    "        val += 1\n",
    "        end -= 1 # decrementing index value\n",
    "    \n",
    "    print(numbers)\n",
    "\n",
    "t = int(input())\n",
    "\n",
    "while t:\n",
    "    n = int(input())\n",
    "    populateArray(n)\n",
    "    t -= 1"
   ]
  },
  {
   "cell_type": "markdown",
   "id": "0c41cede",
   "metadata": {},
   "source": [
    "## Q2) Swap Alternate"
   ]
  },
  {
   "cell_type": "code",
   "execution_count": null,
   "id": "750eb1b9",
   "metadata": {},
   "outputs": [],
   "source": [
    "You have been given an array/list(ARR) of size N. You need to swap every pair of alternate elements in\n",
    "the array/list.\n",
    "You don't need to print or return anything, just change in the input array itself.\n",
    "Input Format :\n",
    "The first line contains an Integer 't' which denotes the number of test cases or queries to be run. Then the\n",
    "test cases follow.\n",
    "The first line of each test case or query contains an integer 'N' representing the size of the array/list.\n",
    "The second line contains 'N' single space-separated integers representing the elements in the array/list.\n",
    "Output Format :\n",
    "For each test case, print the elements of the resulting array in a single row separated by a single space.\n",
    "Output for every test case will be printed in a separate line.\n",
    "Constraints :\n",
    "1 <= t <= 10^2\n",
    "0 <= N <= 10^5\n",
    "Time Limit: 1sec\n",
    "Sample Input 1:\n",
    "1\n",
    "6\n",
    "9 3 6 12 4 32\n",
    "Sample Output 1 :\n",
    "3 9 12 6 32 4\n",
    "Sample Input 2:\n",
    "2\n",
    "9\n",
    "9 3 6 12 4 32 5 11 19\n",
    "4\n",
    "1 2 3 4\n",
    "\n",
    "Sample Output 2 :\n",
    "3 9 12 6 32 4 11 5 19\n",
    "2 1 4 3"
   ]
  },
  {
   "cell_type": "code",
   "execution_count": 1,
   "id": "00f88ee7",
   "metadata": {},
   "outputs": [
    {
     "name": "stdout",
     "output_type": "stream",
     "text": [
      "2\n",
      "9\n",
      "9\n",
      "3\n",
      "6\n",
      "12\n",
      "4\n",
      "32\n",
      "5\n",
      "11\n",
      "19\n",
      "3 9 12 6 32 4 11 5 19 \n",
      "4\n",
      "1\n",
      "2\n",
      "3\n",
      "4\n",
      "2 1 4 3 \n"
     ]
    }
   ],
   "source": [
    "def swapElements(arr):\n",
    "    \n",
    "    for i in range(0, len(arr)-1, 2):\n",
    "        # swaping element at index 'i' with element at index 'i+1' and incrementing index value by 2 after every iteration\n",
    "        arr[i], arr[i+1] = arr[i+1], arr[i]\n",
    "    \n",
    "    for element in arr:\n",
    "        print(element, end=\" \")\n",
    "    \n",
    "    print()\n",
    "t = int(input())\n",
    "while t:\n",
    "    n = int(input())\n",
    "    arr = []\n",
    "    for i in range(n):\n",
    "        arr.append(int(input()))\n",
    "    swapElements(arr)\n",
    "    t -= 1"
   ]
  },
  {
   "cell_type": "markdown",
   "id": "7c5776f4",
   "metadata": {},
   "source": [
    "## Q3) Find Unique"
   ]
  },
  {
   "cell_type": "code",
   "execution_count": null,
   "id": "ae37f9fc",
   "metadata": {},
   "outputs": [],
   "source": [
    "You have been given an integer array/list(ARR) of size N. Where N is equal to [2M + 1].\n",
    "Now, in the given array/list, 'M' numbers are present twice and one number is present only once.\n",
    "You need to find and return that number that is unique in the array/list.\n",
    "Note:\n",
    "A unique element is always present in the array/list according to the given condition.\n",
    "Input format :\n",
    "The first line contains an Integer 't' which denotes the number of test cases or queries to be run. Then the\n",
    "test cases follow.\n",
    "The first line of each test case or query contains an integer 'N' representing the size of the array/list.\n",
    "The second line contains 'N' single space-separated integers representing the elements in the array/list.\n",
    "Output Format :\n",
    "For each test case, print the unique element present in the array.\n",
    "Output for every test case will be printed in a separate line.\n",
    "Constraints :\n",
    "1 <= t <= 10^2\n",
    "0 <= N <= 10^3\n",
    "Time Limit: 1 sec\n",
    "Sample Input 1:\n",
    "1\n",
    "7\n",
    "2 3 1 6 3 6 2\n",
    "Sample Output 1:\n",
    "1\n",
    "Sample Input 2:\n",
    "2\n",
    "5\n",
    "2 4 7 2 7\n",
    "9\n",
    "1 3 1 3 6 6 7 10 7\n",
    "Sample Output 2:\n",
    "4\n",
    "10"
   ]
  },
  {
   "cell_type": "markdown",
   "id": "80599b4a",
   "metadata": {},
   "source": [
    "### Solution 1 (Naive Approach using dictionary)"
   ]
  },
  {
   "cell_type": "code",
   "execution_count": 17,
   "id": "d76643d2",
   "metadata": {},
   "outputs": [
    {
     "name": "stdout",
     "output_type": "stream",
     "text": [
      "1\n",
      "5\n",
      "2\n",
      "4\n",
      "7\n",
      "2\n",
      "7\n",
      "4\n"
     ]
    }
   ],
   "source": [
    "def findUnique(arr):\n",
    "    counter = {} # instantiating an empty dictionary\n",
    "     \n",
    "    for elem in arr:\n",
    "        if elem in counter:\n",
    "            counter[elem] += 1 # if element is present increment count by 1\n",
    "        else:\n",
    "            counter[elem] = 1 # Create a new key and instantiate it with 1\n",
    "            \n",
    "    print([k for k, v in counter.items() if v == 1][0]) # finding the key with value 1\n",
    "\n",
    "t = int(input())\n",
    "while t:\n",
    "    n = int(input())\n",
    "    arr = []\n",
    "    for i in range(n):\n",
    "        arr.append(int(input()))\n",
    "    findUnique(arr)\n",
    "    t -= 1"
   ]
  },
  {
   "cell_type": "markdown",
   "id": "e0eec006",
   "metadata": {},
   "source": [
    "### Solution 2 (Converting list in to set, Adding each element of list and set, Difference of sum is the unique element)"
   ]
  },
  {
   "cell_type": "code",
   "execution_count": 20,
   "id": "f5762115",
   "metadata": {},
   "outputs": [
    {
     "name": "stdout",
     "output_type": "stream",
     "text": [
      "1\n",
      "5\n",
      "2\n",
      "4\n",
      "7\n",
      "2\n",
      "7\n",
      "4\n"
     ]
    }
   ],
   "source": [
    "def findUnique2(arr):\n",
    "    print(2 * sum(set(arr)) - sum(arr))\n",
    "\n",
    "t = int(input())\n",
    "while t:\n",
    "    n = int(input())\n",
    "    arr = []\n",
    "    for i in range(n):\n",
    "        arr.append(int(input()))\n",
    "    findUnique2(arr)\n",
    "    t -= 1"
   ]
  },
  {
   "cell_type": "markdown",
   "id": "eb910015",
   "metadata": {},
   "source": [
    "### Solution 3 (Best Approach: using xor operator as having same value returns 0)"
   ]
  },
  {
   "cell_type": "code",
   "execution_count": 23,
   "id": "1e62a8ef",
   "metadata": {},
   "outputs": [
    {
     "name": "stdout",
     "output_type": "stream",
     "text": [
      "1\n",
      "5\n",
      "2\n",
      "4\n",
      "7\n",
      "2\n",
      "7\n",
      "4\n"
     ]
    }
   ],
   "source": [
    "def findUnique3(arr):\n",
    "    res = 0\n",
    "    \n",
    "    for elem in arr:\n",
    "        res = res ^ elem\n",
    "    \n",
    "    print(res)\n",
    "    \n",
    "    \n",
    "t = int(input())\n",
    "while t:\n",
    "    n = int(input())\n",
    "    arr = []\n",
    "    for i in range(n):\n",
    "        arr.append(int(input()))\n",
    "    findUnique3(arr)\n",
    "    t -= 1"
   ]
  },
  {
   "cell_type": "markdown",
   "id": "c490aa2f",
   "metadata": {},
   "source": [
    "## Q4) Find Duplicate"
   ]
  },
  {
   "cell_type": "code",
   "execution_count": null,
   "id": "20f1cae4",
   "metadata": {},
   "outputs": [],
   "source": [
    "Find Duplicate\n",
    "You have been given an integer array/list(ARR) of size N which contains numbers from 0 to (N - 2). Each\n",
    "number is present at least once. That is, if N = 5, the array/list constitutes values ranging from 0 to 3 and\n",
    "among these, there is a single integer value that is present twice. You need to find and return that\n",
    "duplicate number present in the array.\n",
    "Note :\n",
    "Duplicate number is always present in the given array/list.\n",
    "Input format :\n",
    "The first line contains an Integer 't' which denotes the number of test cases or queries to be run. Then the\n",
    "test cases follow.\n",
    "First line of each test case or query contains an integer 'N' representing the size of the array/list.\n",
    "Second line contains 'N' single space separated integers representing the elements in the array/list.\n",
    "Output Format :\n",
    "For each test case, print the duplicate element in the array/list.\n",
    "Output for every test case will be printed in a separate line.\n",
    "Constraints :\n",
    "1 <= t <= 10^2\n",
    "0 <= N <= 10^3\n",
    "Time Limit: 1 sec\n",
    "Sample Input 1:\n",
    "1\n",
    "9\n",
    "0 7 2 5 4 7 1 3 6\n",
    "Sample Output 1:\n",
    "7\n",
    "Sample Input 2:\n",
    "2\n",
    "5\n",
    "0 2 1 3 1\n",
    "7\n",
    "0 3 1 5 4 3 2\n",
    "Sample Output 2:\n",
    "1\n",
    "3"
   ]
  },
  {
   "cell_type": "markdown",
   "id": "5a830615",
   "metadata": {},
   "source": [
    "### Solution 1 Naive Approach using dictionary"
   ]
  },
  {
   "cell_type": "code",
   "execution_count": 25,
   "id": "a50770cf",
   "metadata": {},
   "outputs": [
    {
     "name": "stdout",
     "output_type": "stream",
     "text": [
      "1\n",
      "5\n",
      "0\n",
      "2\n",
      "1\n",
      "3\n",
      "1\n",
      "1\n"
     ]
    }
   ],
   "source": [
    "def findDuplicate(arr):\n",
    "    counter = {} # instantiating an empty dictionary\n",
    "     \n",
    "    for elem in arr:\n",
    "        if elem in counter:\n",
    "            counter[elem] += 1 # if element is present increment count by 1\n",
    "        else:\n",
    "            counter[elem] = 1 # Create a new key and instantiate it with 1\n",
    "            \n",
    "    print([k for k, v in counter.items() if v > 1][0]) # finding the key with value 1\n",
    "    \n",
    "\n",
    "t = int(input())\n",
    "while t:\n",
    "    n = int(input())\n",
    "    arr = []\n",
    "    for i in range(n):\n",
    "        arr.append(int(input()))\n",
    "    findDuplicate(arr)\n",
    "    t -= 1"
   ]
  },
  {
   "cell_type": "markdown",
   "id": "6f82a0ae",
   "metadata": {},
   "source": [
    "### Solution 2 (Converting list in to set, Adding each element of list and set, Difference of sum is the unique element)"
   ]
  },
  {
   "cell_type": "code",
   "execution_count": 30,
   "id": "bb11d322",
   "metadata": {},
   "outputs": [
    {
     "name": "stdout",
     "output_type": "stream",
     "text": [
      "1\n",
      "5\n",
      "0\n",
      "2\n",
      "1\n",
      "3\n",
      "1\n",
      "1\n"
     ]
    }
   ],
   "source": [
    "def findDuplicate2(arr, n):\n",
    "    print(sum(arr) - int(n*(n+1)/2))\n",
    "\n",
    "t = int(input())\n",
    "while t:\n",
    "    n = int(input())\n",
    "    arr = []\n",
    "    for i in range(n):\n",
    "        arr.append(int(input()))\n",
    "    findDuplicate2(arr, n-2)\n",
    "    t -= 1"
   ]
  },
  {
   "cell_type": "markdown",
   "id": "0fe613ad",
   "metadata": {},
   "source": [
    "### Solution 3 (Iterating through array and marking each element as visited by making it negative based on index value if the value is visited twice then that element is repeated)"
   ]
  },
  {
   "cell_type": "code",
   "execution_count": 37,
   "id": "c1bcbb7e",
   "metadata": {},
   "outputs": [
    {
     "name": "stdout",
     "output_type": "stream",
     "text": [
      "1\n",
      "5\n",
      "0\n",
      "2\n",
      "1\n",
      "3\n",
      "0\n",
      "0\n"
     ]
    }
   ],
   "source": [
    "def findDuplicate3(arr):\n",
    "    missingValue = 0\n",
    "    \n",
    "    for i in range(len(arr)):\n",
    "        elem = arr[abs(arr[i])] # Fething the value of element based on value at ith index\n",
    "        \n",
    "        if elem < 0: # if element value is negative that means it is revisited and element at ith index is repeated\n",
    "            missingValue = arr[i]\n",
    "            break\n",
    "        \n",
    "        arr[abs(arr[i])] = -arr[abs(arr[i])] # Marking the element as visited by negating it\n",
    "        \n",
    "    print(abs(missingValue))\n",
    "\n",
    "\n",
    "t = int(input())\n",
    "while t:\n",
    "    n = int(input())\n",
    "    arr = []\n",
    "    for i in range(n):\n",
    "        arr.append(int(input()))\n",
    "    findDuplicate3(arr)\n",
    "    t -= 1"
   ]
  },
  {
   "cell_type": "markdown",
   "id": "6eb2fe0e",
   "metadata": {},
   "source": [
    "## Q5) Intersection of Two Arrays"
   ]
  },
  {
   "cell_type": "markdown",
   "id": "c1ff6fd3",
   "metadata": {},
   "source": [
    "You have been given two integer arrays/list(ARR1 and ARR2) of size N and M, respectively. You need to\n",
    "print their intersection; An intersection for this problem can be defined when both the arrays/lists contain a\n",
    "particular value or to put it in other words, when there is a common value that exists in both the\n",
    "arrays/lists.\n",
    "Note :\n",
    "Input arrays/lists can contain duplicate elements.\n",
    "The intersection elements printed would be in the order they appear in the first array/list(ARR1)\n",
    "Input format :\n",
    "The first line contains an Integer 't' which denotes the number of test cases or queries to be run. Then the\n",
    "test cases follow.\n",
    "First line of each test case or query contains an integer 'N' representing the size of the first array/list.\n",
    "Second line contains 'N' single space separated integers representing the elements of the first the\n",
    "array/list.\n",
    "Third line contains an integer 'M' representing the size of the second array/list.\n",
    "Fourth line contains 'M' single space separated integers representing the elements of the second\n",
    "array/list.\n",
    "Output format :\n",
    "For each test case, print the intersection elements in a row, separated by a single space.\n",
    "Output for every test case will be printed in a separate line.\n",
    "Constraints :\n",
    "1 <= t <= 10^2\n",
    "0 <= N <= 10^5\n",
    "0 <= M <= 10^5\n",
    "Time Limit: 1 sec\n",
    "Sample Input 1 :\n",
    "2\n",
    "6\n",
    "2 6 8 5 4 3\n",
    "4\n",
    "2 3 4 7\n",
    "2\n",
    "10 10\n",
    "1\n",
    "10\n",
    "Sample Output 1 :\n",
    "2 4 3\n",
    "10\n",
    "Sample Input 2 :\n",
    "1\n",
    "4\n",
    "2 6 1 2\n",
    "5\n",
    "1 2 3 4 2\n",
    "Sample Output 2 :\n",
    "2 1 2\n",
    "Explanation for Sample Output 2 :\n",
    "Since, both input arrays have two '2's, the intersection of the arrays also have two '2's. The first '2' of first\n",
    "array matches with the first '2' of the second array. Similarly, the second '2' of the first array matches with\n",
    "the second '2' of the second array."
   ]
  },
  {
   "cell_type": "code",
   "execution_count": 42,
   "id": "bb36f69d",
   "metadata": {},
   "outputs": [
    {
     "name": "stdout",
     "output_type": "stream",
     "text": [
      "1\n",
      "4\n",
      "2\n",
      "6\n",
      "1\n",
      "2\n",
      "5\n",
      "1\n",
      "2\n",
      "3\n",
      "4\n",
      "2\n",
      "2 1 2 "
     ]
    }
   ],
   "source": [
    "import sys\n",
    "def intersection(arr1, arr2, n, m):\n",
    "    for i in range(n):\n",
    "        for j in range(m):\n",
    "            if arr1[i] == arr2[j]:\n",
    "                print(arr1[i], end=\" \")\n",
    "                arr2[j] = -sys.maxsize - 1 # setting the value in arr2 as visited in case of repeating values\n",
    "                break\n",
    "    \n",
    "\n",
    "\n",
    "t = int(input())\n",
    "\n",
    "while t:\n",
    "    arr1 = []\n",
    "    arr2 = []\n",
    "    \n",
    "    n = int(input())\n",
    "    for i in range(n):\n",
    "        arr1.append(int(input()))\n",
    "    \n",
    "    m = int(input())\n",
    "    for i in range(m):\n",
    "        arr2.append(int(input()))\n",
    "    \n",
    "    intersection(arr1, arr2, n, m)\n",
    "    \n",
    "    t -= 1"
   ]
  },
  {
   "cell_type": "markdown",
   "id": "a3d96a75",
   "metadata": {},
   "source": [
    "## Q6) Pair sum"
   ]
  },
  {
   "cell_type": "code",
   "execution_count": null,
   "id": "47b377bc",
   "metadata": {},
   "outputs": [],
   "source": [
    "You have been given an integer array/list(ARR) and a number X. Find and return the total number of pairs\n",
    "in the array/list which sum to X.\n",
    "Note:\n",
    "Given array/list can contain duplicate elements.\n",
    "Input format :\n",
    "The first line contains an Integer 't' which denotes the number of test cases or queries to be run. Then the\n",
    "test cases follow.\n",
    "First line of each test case or query contains an integer 'N' representing the size of the first array/list.\n",
    "Second line contains 'N' single space separated integers representing the elements in the array/list.\n",
    "Third line contains an integer 'X'.\n",
    "Output format :\n",
    "For each test case, print the total number of pairs present in the array/list.\n",
    "Output for every test case will be printed in a separate line.\n",
    "Constraints :\n",
    "1 <= t <= 10^2\n",
    "0 <= N <= 10^3\n",
    "0 <= X <= 10^9\n",
    "Time Limit: 1 sec\n",
    "Sample Input 1:\n",
    "1\n",
    "9\n",
    "1 3 6 2 5 4 3 2 4\n",
    "7\n",
    "Sample Output 1:\n",
    "7\n",
    "Sample Input 2:\n",
    "2\n",
    "9\n",
    "1 3 6 2 5 4 3 2 4\n",
    "12\n",
    "6\n",
    "2 8 10 5 -2 5\n",
    "10\n",
    "Sample Output 2:\n",
    "0\n",
    "2\n",
    "Explanation for Input 2:\n",
    "Since there doesn't exist any pair with sum equal to 12 for the first query, we print 0.\n",
    "For the second query, we have 2 pairs in total that sum up to 10. They are, (2, 8) and (5, 5)."
   ]
  },
  {
   "cell_type": "markdown",
   "id": "86fe2566",
   "metadata": {},
   "source": [
    "### Solution 1 (Naive Approach using two for loops iterating through each element to find out if it sums to the given number)"
   ]
  },
  {
   "cell_type": "code",
   "execution_count": 43,
   "id": "3203fed3",
   "metadata": {},
   "outputs": [
    {
     "name": "stdout",
     "output_type": "stream",
     "text": [
      "1\n",
      "6\n",
      "2\n",
      "8\n",
      "10\n",
      "5\n",
      "-2\n",
      "5\n",
      "10\n",
      "2\n"
     ]
    }
   ],
   "source": [
    "def findPair(arr, x):\n",
    "    count = 0\n",
    "    \n",
    "    for i in range(len(arr)):\n",
    "        for j in range(i+1, len(arr)):\n",
    "            if arr[i] + arr[j] == x:\n",
    "                count += 1\n",
    "    \n",
    "    print(count)\n",
    "\n",
    "t = int(input())\n",
    "\n",
    "while t:\n",
    "    arr = []\n",
    "    n = int(input())\n",
    "    for i in range(n):\n",
    "        arr.append(int(input()))\n",
    "    x = int(input())\n",
    "    \n",
    "    findPair(arr, x)\n",
    "    \n",
    "    t -= 1"
   ]
  },
  {
   "cell_type": "markdown",
   "id": "7680fcea",
   "metadata": {},
   "source": [
    "### Solution 2 (Using a dictionary)"
   ]
  },
  {
   "cell_type": "code",
   "execution_count": 44,
   "id": "a0ab7499",
   "metadata": {},
   "outputs": [
    {
     "name": "stdout",
     "output_type": "stream",
     "text": [
      "1\n",
      "6\n",
      "2\n",
      "8\n",
      "10\n",
      "5\n",
      "-2\n",
      "5\n",
      "10\n",
      "2\n"
     ]
    }
   ],
   "source": [
    "def findPair2(arr, x):\n",
    "    freq = {} # initializing the frequency counter of each element\n",
    "    count = 0\n",
    "    \n",
    "    for i in range(len(x)):\n",
    "        # Finding out the element which is the diff between sum and the current element\n",
    "        if x - arr[i] in freq: \n",
    "            count += freq[x - arr[i]] # If there are repeating elements then taking all of them at once\n",
    "            \n",
    "        if arr[i] in freq: \n",
    "            freq[arr[i]] += 1\n",
    "        else:\n",
    "            freq[arr[i]] = 1\n",
    "            \n",
    "    print(count)\n",
    "\n",
    "t = int(input())\n",
    "\n",
    "while t:\n",
    "    arr = []\n",
    "    n = int(input())\n",
    "    for i in range(n):\n",
    "        arr.append(int(input()))\n",
    "    x = int(input())\n",
    "    \n",
    "    findPair(arr, x)\n",
    "    \n",
    "    t -= 1"
   ]
  },
  {
   "cell_type": "markdown",
   "id": "cffcee52",
   "metadata": {},
   "source": [
    "## Q7) Find Triplets"
   ]
  },
  {
   "cell_type": "code",
   "execution_count": null,
   "id": "1552f673",
   "metadata": {},
   "outputs": [],
   "source": [
    "You have been given a random integer array/list(ARR) and a number X. Find and return the number of\n",
    "triplets in the array/list which sum to X.\n",
    "Note :\n",
    "Given array/list can contain duplicate elements.\n",
    "Input format :\n",
    "The first line contains an Integer 't' which denotes the number of test cases or queries to be run. Then the\n",
    "test cases follow.\n",
    "First line of each test case or query contains an integer 'N' representing the size of the first array/list.\n",
    "Second line contains 'N' single space separated integers representing the elements in the array/list.\n",
    "Third line contains an integer 'X'.\n",
    "Output format :\n",
    "For each test case, print the total number of triplets present in the array/list.\n",
    "Output for every test case will be printed in a separate line.\n",
    "Constraints :\n",
    "1 <= t <= 50\n",
    "0 <= N <= 10^2\n",
    "0 <= X <= 10^9\n",
    "Time Limit: 1 sec\n",
    "Sample Input 1:\n",
    "1\n",
    "7\n",
    "1 2 3 4 5 6 7\n",
    "12\n",
    "Sample Output 1:\n",
    "5\n",
    "Sample Input 2:\n",
    "2\n",
    "7\n",
    "1 2 3 4 5 6 7\n",
    "19\n",
    "9\n",
    "2 -5 8 -6 0 5 10 11 -3\n",
    "10\n",
    "Sample Output 2:\n",
    "0\n",
    "5\n",
    "Explanation for Input 2:\n",
    "Since there doesn't exist any triplet with sum equal to 19 for the first query, we print 0.\n",
    "For the second query, we have 5 triplets in total that sum up to 10. They are, (2, 8, 0), (2, 11, -3), (-5, 5,\n",
    "10), (8, 5, -3) and (-6, 5, 11)"
   ]
  },
  {
   "cell_type": "markdown",
   "id": "4f5c7eeb",
   "metadata": {},
   "source": [
    "### Solution 1 (Worst Approach using three for loops)"
   ]
  },
  {
   "cell_type": "code",
   "execution_count": 52,
   "id": "77138702",
   "metadata": {},
   "outputs": [
    {
     "name": "stdout",
     "output_type": "stream",
     "text": [
      "1\n",
      "9\n",
      "2\n",
      "-5\n",
      "8\n",
      "-6\n",
      "0\n",
      "5\n",
      "10\n",
      "11\n",
      "-3\n",
      "10\n",
      "5\n"
     ]
    }
   ],
   "source": [
    "def findTriplets(arr, x):\n",
    "    count = 0\n",
    "    \n",
    "    for i in range(len(arr)):\n",
    "        for j in range(i+1, len(arr)):\n",
    "            for k in range(j+1, len(arr)):\n",
    "                if arr[i] + arr[j] + arr[k] == x:\n",
    "                    count += 1\n",
    "    \n",
    "    print(count)\n",
    "\n",
    "t = int(input())\n",
    "\n",
    "while t:\n",
    "    arr = []\n",
    "    n = int(input())\n",
    "    for i in range(n):\n",
    "        arr.append(int(input()))\n",
    "    x = int(input())\n",
    "    \n",
    "    findTriplets(arr, x)\n",
    "    \n",
    "    t -= 1"
   ]
  },
  {
   "cell_type": "markdown",
   "id": "9d44e719",
   "metadata": {},
   "source": [
    "## Q8) Sort 0 1"
   ]
  },
  {
   "cell_type": "code",
   "execution_count": null,
   "id": "d853708e",
   "metadata": {},
   "outputs": [],
   "source": [
    "You have been given an integer array/list(ARR) of size N that contains only integers, 0 and 1. Write a\n",
    "function to sort this array/list. Think of a solution which scans the array/list only once and don't require use\n",
    "of an extra array/list.\n",
    "Note:\n",
    "You need to change in the given array/list itself. Hence, no need to return or print anything.\n",
    "Input format :\n",
    "The first line contains an Integer 't' which denotes the number of test cases or queries to be run. Then the\n",
    "test cases follow.\n",
    "First line of each test case or query contains an integer 'N' representing the size of the array/list.\n",
    "Second line contains 'N' single space separated integers(all 0s and 1s) representing the elements in the\n",
    "array/list.\n",
    "Output format :\n",
    "For each test case, print the sorted array/list elements in a row separated by a single space.\n",
    "Output for every test case will be printed in a separate line.\n",
    "Constraints :\n",
    "1 <= t <= 10^2\n",
    "0 <= N <= 10^5\n",
    "Time Limit: 1 sec\n",
    "Sample Input 1:\n",
    "1\n",
    "7\n",
    "0 1 1 0 1 0 1\n",
    "Sample Output 1:\n",
    "0 0 0 1 1 1 1\n",
    "Sample Input 2:\n",
    "2\n",
    "8\n",
    "1 0 1 1 0 1 0 1\n",
    "5\n",
    "0 1 0 1 0\n",
    "Sample Output 2:\n",
    "0 0 0 1 1 1 1 1\n",
    "0 0 0 1 1"
   ]
  },
  {
   "cell_type": "markdown",
   "id": "fc92500d",
   "metadata": {},
   "source": [
    "### Solution (Can't use bruteforce approach as array should be iterated only once so taking two pointer approach)"
   ]
  },
  {
   "cell_type": "code",
   "execution_count": 61,
   "id": "1240cdef",
   "metadata": {},
   "outputs": [
    {
     "name": "stdout",
     "output_type": "stream",
     "text": [
      "1\n",
      "5\n",
      "0\n",
      "1\n",
      "0\n",
      "1\n",
      "0\n",
      "0 0 0 1 1 "
     ]
    }
   ],
   "source": [
    "def sortArray(arr, n):\n",
    "    start = 0\n",
    "    end = n - 1\n",
    "    \n",
    "    while start < end: # two pointers should not overlap or else it might end up printing the same array\n",
    "        if arr[start] == 1:\n",
    "            if arr[end] != 1:\n",
    "                arr[start], arr[end] = 0,1\n",
    "            end -= 1 # if end value is 1 then moving the pointer backwards\n",
    "        else:\n",
    "            start += 1 # if start value is 0 then moving the pointer forwards \n",
    "    \n",
    "    for elem in arr:\n",
    "        print(elem, end=\" \")\n",
    "            \n",
    "\n",
    "t = int(input())\n",
    "\n",
    "while t:\n",
    "    arr = []\n",
    "    n = int(input())\n",
    "    \n",
    "    for i in range(n):\n",
    "        arr.append(int(input()))\n",
    "    \n",
    "    sortArray(arr, n)\n",
    "    \n",
    "    t-= 1"
   ]
  },
  {
   "cell_type": "code",
   "execution_count": null,
   "id": "fda9c102",
   "metadata": {},
   "outputs": [],
   "source": []
  }
 ],
 "metadata": {
  "kernelspec": {
   "display_name": "Python 3 (ipykernel)",
   "language": "python",
   "name": "python3"
  },
  "language_info": {
   "codemirror_mode": {
    "name": "ipython",
    "version": 3
   },
   "file_extension": ".py",
   "mimetype": "text/x-python",
   "name": "python",
   "nbconvert_exporter": "python",
   "pygments_lexer": "ipython3",
   "version": "3.9.7"
  }
 },
 "nbformat": 4,
 "nbformat_minor": 5
}
