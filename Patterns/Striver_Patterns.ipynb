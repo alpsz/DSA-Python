{
 "cells": [
  {
   "cell_type": "code",
   "execution_count": 4,
   "id": "58c6fbb1",
   "metadata": {},
   "outputs": [
    {
     "name": "stdout",
     "output_type": "stream",
     "text": [
      "Enter the value of n: 10\n",
      "**********\n",
      "**********\n",
      "**********\n",
      "**********\n",
      "**********\n",
      "**********\n",
      "**********\n",
      "**********\n",
      "**********\n",
      "**********\n"
     ]
    }
   ],
   "source": [
    "# Square Pattern\n",
    "n = int(input(\"Enter the value of n: \"))\n",
    "for i in range(n):\n",
    "    for j in range(n):\n",
    "        print(\"*\", end=\"\")\n",
    "    print()"
   ]
  },
  {
   "cell_type": "code",
   "execution_count": 5,
   "id": "b45b3c73",
   "metadata": {},
   "outputs": [
    {
     "name": "stdout",
     "output_type": "stream",
     "text": [
      "Enter the value of n: 5\n",
      "*\n",
      "**\n",
      "***\n",
      "****\n",
      "*****\n"
     ]
    }
   ],
   "source": [
    "# * triangle\n",
    "n = int(input(\"Enter the value of n: \"))\n",
    "for i in range(n):\n",
    "    for j in range(n):\n",
    "        if(j <= i):\n",
    "            print(\"*\", end=\"\")\n",
    "        else:\n",
    "            break\n",
    "    print()"
   ]
  },
  {
   "cell_type": "code",
   "execution_count": 7,
   "id": "6ea240b2",
   "metadata": {},
   "outputs": [
    {
     "name": "stdout",
     "output_type": "stream",
     "text": [
      "Enter the value of n: 10\n",
      "1\n",
      "12\n",
      "123\n",
      "1234\n",
      "12345\n",
      "123456\n",
      "1234567\n",
      "12345678\n",
      "123456789\n",
      "12345678910\n"
     ]
    }
   ],
   "source": [
    "# number triangle\n",
    "n = int(input(\"Enter the value of n: \"))\n",
    "for i in range(n):\n",
    "    for j in range(n):\n",
    "        if(j <= i):\n",
    "            print(j+1, end=\"\")\n",
    "    print()"
   ]
  },
  {
   "cell_type": "code",
   "execution_count": 9,
   "id": "57aba681",
   "metadata": {},
   "outputs": [
    {
     "name": "stdout",
     "output_type": "stream",
     "text": [
      "Enter the value of n: 5\n",
      "1\n",
      "22\n",
      "333\n",
      "4444\n",
      "55555\n"
     ]
    }
   ],
   "source": [
    "# number triangle\n",
    "n = int(input(\"Enter the value of n: \"))\n",
    "for i in range(n):\n",
    "    for j in range(n):\n",
    "        if (j <= i):\n",
    "            print(i+1, end=\"\")\n",
    "    print()"
   ]
  },
  {
   "cell_type": "code",
   "execution_count": 12,
   "id": "895cd911",
   "metadata": {},
   "outputs": [
    {
     "name": "stdout",
     "output_type": "stream",
     "text": [
      "Enter the value of n: 5\n",
      "*****\n",
      "****\n",
      "***\n",
      "**\n",
      "*\n"
     ]
    }
   ],
   "source": [
    "# inverse triangle\n",
    "n = int(input(\"Enter the value of n: \"))\n",
    "for i in range(n):\n",
    "    for j in range(n - i):\n",
    "        print(\"*\", end=\"\")\n",
    "    print()\n"
   ]
  },
  {
   "cell_type": "code",
   "execution_count": 13,
   "id": "4d00b5cb",
   "metadata": {},
   "outputs": [
    {
     "name": "stdout",
     "output_type": "stream",
     "text": [
      "Enter the value of n: 5\n",
      "12345\n",
      "1234\n",
      "123\n",
      "12\n",
      "1\n"
     ]
    }
   ],
   "source": [
    "# inverse number triangle\n",
    "n = int(input(\"Enter the value of n: \"))\n",
    "for i in range(n):\n",
    "    for j in range(n - i):\n",
    "        print(j+1, end=\"\")\n",
    "    print()"
   ]
  },
  {
   "cell_type": "code",
   "execution_count": 29,
   "id": "518eecde",
   "metadata": {},
   "outputs": [
    {
     "name": "stdout",
     "output_type": "stream",
     "text": [
      "Enter the value of n: 5\n",
      "    *    \n",
      "   ***   \n",
      "  *****  \n",
      " ******* \n",
      "*********\n",
      "     *\n",
      "    ***\n",
      "   *****\n",
      "  *******\n",
      " *********\n"
     ]
    }
   ],
   "source": [
    "# star pyramid\n",
    "n = int(input(\"Enter the value of n: \"))\n",
    "for i in range(n):\n",
    "    for j in range(n*2 - 1):\n",
    "        if ( (j >= n - (i+1)) and (j <= ((n*2-1) - (n-i)))):\n",
    "            print(\"*\", end=\"\")\n",
    "        else: \n",
    "            print(\" \", end=\"\")\n",
    "    print()\n",
    "\n",
    "# second solution\n",
    "for i in range(n):\n",
    "    print(\" \" * (n-1 - i), \"*\" * (2*i + 1))"
   ]
  },
  {
   "cell_type": "code",
   "execution_count": 24,
   "id": "798a4509",
   "metadata": {},
   "outputs": [
    {
     "name": "stdout",
     "output_type": "stream",
     "text": [
      "Enter the value of n: 5\n",
      "*********\n",
      " *******\n",
      "  *****\n",
      "   ***\n",
      "    *\n",
      " *********\n",
      "  *******\n",
      "   *****\n",
      "    ***\n",
      "     *\n"
     ]
    }
   ],
   "source": [
    "# inverted star pyramid\n",
    "n = int(input(\"Enter the value of n: \"))\n",
    "for i in range(n):\n",
    "    for j in range(n*2 - 1):\n",
    "        if (j < i):\n",
    "            print(\" \", end=\"\")\n",
    "        elif(j < (n*2-1) - i):\n",
    "            print(\"*\", end=\"\")\n",
    "    print()\n",
    "\n",
    "# second Solution\n",
    "for i in range(n):\n",
    "    print(\" \" * i, \"*\" * ((2*n - 1) - 2*i))"
   ]
  },
  {
   "cell_type": "code",
   "execution_count": 28,
   "id": "886dac9a",
   "metadata": {},
   "outputs": [
    {
     "name": "stdout",
     "output_type": "stream",
     "text": [
      "Enter the value of n: 5\n",
      "    *    \n",
      "   ***   \n",
      "  *****  \n",
      " ******* \n",
      "*********\n",
      "*********\n",
      " *******\n",
      "  *****\n",
      "   ***\n",
      "    *\n",
      "     *\n",
      "    ***\n",
      "   *****\n",
      "  *******\n",
      " *********\n",
      " *********\n",
      "  *******\n",
      "   *****\n",
      "    ***\n",
      "     *\n"
     ]
    }
   ],
   "source": [
    "# Diamond Pattern\n",
    "n = int(input(\"Enter the value of n: \"))\n",
    "for i in range(n):\n",
    "    for j in range(n*2-1):\n",
    "        if ( (j >= n - (i+1)) and (j <= ((n*2-1) - (n-i)))):\n",
    "            print(\"*\", end=\"\")\n",
    "        else: \n",
    "            print(\" \", end=\"\")\n",
    "    print()\n",
    "for i in range(n):\n",
    "    for j in range(n*2 - 1):\n",
    "        if (j < i):\n",
    "            print(\" \", end=\"\")\n",
    "        elif(j < (n*2-1) - i):\n",
    "            print(\"*\", end=\"\")\n",
    "    print()\n",
    "\n",
    "# second solution\n",
    "for i in range(n):\n",
    "    print(\" \" * (n-1 - i), \"*\" * (2*i + 1))\n",
    "for i in range(n):\n",
    "    print(\" \" * i, \"*\" * ((2*n - 1) - 2*i))"
   ]
  },
  {
   "cell_type": "code",
   "execution_count": null,
   "id": "7331b83f",
   "metadata": {},
   "outputs": [],
   "source": [
    "# half diamond\n"
   ]
  }
 ],
 "metadata": {
  "kernelspec": {
   "display_name": "Python 3 (ipykernel)",
   "language": "python",
   "name": "python3"
  },
  "language_info": {
   "codemirror_mode": {
    "name": "ipython",
    "version": 3
   },
   "file_extension": ".py",
   "mimetype": "text/x-python",
   "name": "python",
   "nbconvert_exporter": "python",
   "pygments_lexer": "ipython3",
   "version": "3.9.7"
  }
 },
 "nbformat": 4,
 "nbformat_minor": 5
}
